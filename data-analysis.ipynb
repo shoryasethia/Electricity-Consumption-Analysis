{
 "cells": [
  {
   "cell_type": "code",
   "execution_count": 17,
   "metadata": {},
   "outputs": [],
   "source": [
    "import pandas as pd\n",
    "import numpy as np\n",
    "import seaborn as sns\n",
    "import matplotlib.pyplot as plt\n",
    "from scipy import stats\n",
    "from sklearn.linear_model import LinearRegression\n",
    "from sklearn.model_selection import train_test_split\n",
    "from sklearn.metrics import r2_score, mean_squared_error"
   ]
  },
  {
   "cell_type": "code",
   "execution_count": 2,
   "metadata": {},
   "outputs": [],
   "source": [
    "# Read the data\n",
    "df = pd.read_csv('data.csv')"
   ]
  },
  {
   "cell_type": "code",
   "execution_count": 3,
   "metadata": {},
   "outputs": [],
   "source": [
    "# Convert monthly columns to numeric if they aren't already\n",
    "months = ['September', 'August', 'July', 'June', 'May', 'April', 'March']\n",
    "for month in months:\n",
    "    # Check if conversion is needed\n",
    "    if df[month].dtype == 'object':\n",
    "        df[month] = pd.to_numeric(df[month].astype(str).str.replace(',', ''), errors='coerce')\n",
    "    else:\n",
    "        df[month] = pd.to_numeric(df[month], errors='coerce')"
   ]
  },
  {
   "cell_type": "code",
   "execution_count": null,
   "metadata": {},
   "outputs": [],
   "source": [
    "# Create average monthly consumption\n",
    "df['avg_consumption'] = df[months].mean(axis=1)\n",
    "\n",
    "# Extract latitude and longitude\n",
    "df[['Latitude', 'Longitude']] = df['Latitude,Longitue'].str.extract(r'([\\d.]+),\\s*([\\d.]+)')\n",
    "df[['Latitude', 'Longitude']] = df[['Latitude', 'Longitude']].astype(float)\n",
    "\n",
    "print(\"Data Overview:\")\n",
    "print(df.describe())"
   ]
  },
  {
   "cell_type": "code",
   "execution_count": null,
   "metadata": {},
   "outputs": [],
   "source": [
    "# Dropping non-numeric columns\n",
    "df_numeric = df.select_dtypes(include=[np.number])\n",
    "\n",
    "# Calculate the correlation matrix\n",
    "plt.figure(figsize=(10, 8))\n",
    "correlation_matrix = df_numeric.corr()\n",
    "sns.heatmap(correlation_matrix, annot=True, fmt=\".2f\", cmap='coolwarm', square=True)\n",
    "plt.title('Correlation Matrix')\n",
    "plt.show()"
   ]
  },
  {
   "cell_type": "code",
   "execution_count": 6,
   "metadata": {},
   "outputs": [],
   "source": [
    "monthly_cols = ['September', 'August', 'July', 'June', 'May', 'April', 'March']\n",
    "df['avg_consumption'] = df[monthly_cols].mean(axis=1)"
   ]
  },
  {
   "cell_type": "code",
   "execution_count": null,
   "metadata": {},
   "outputs": [],
   "source": [
    "# Monthly consumption patterns\n",
    "plt.figure(figsize=(15, 6))\n",
    "monthly_avg = df[months].mean()\n",
    "monthly_std = df[months].std()\n",
    "\n",
    "plt.errorbar(range(len(months)), monthly_avg, yerr=monthly_std, fmt='o-')\n",
    "plt.xticks(range(len(months)), months, rotation=45)\n",
    "plt.title('Monthly Consumption Pattern with Standard Deviation')\n",
    "plt.ylabel('Average Consumption (units)')\n",
    "plt.grid(True)\n",
    "plt.show()\n",
    "\n",
    "# Calculate month-to-month changes\n",
    "print(\"\\nMonth-to-month average consumption changes:\")\n",
    "for i in range(len(months)-1):\n",
    "    change = monthly_avg[i] - monthly_avg[i+1]\n",
    "    percent_change = (change / monthly_avg[i+1]) * 100\n",
    "    print(f\"{months[i+1]} to {months[i]}: {change:.2f} units ({percent_change:.1f}%)\")"
   ]
  },
  {
   "cell_type": "code",
   "execution_count": null,
   "metadata": {},
   "outputs": [],
   "source": [
    "# Relationship between consumption and Carpet Area (BUA)\n",
    "plt.figure(figsize=(10, 6))\n",
    "sns.scatterplot(data=df, x='Carpet-Area', y='avg_consumption')\n",
    "plt.title('Carpet Area vs Average Consumption')\n",
    "plt.xlabel('Carpet Area (sq ft)')\n",
    "plt.ylabel('Average Monthly Consumption (units)')\n",
    "\n",
    "# Calculate correlation\n",
    "correlation_bua = stats.pearsonr(df['Carpet-Area'], df['avg_consumption'])[0]\n",
    "print(f\"\\nCorrelation between Carpet Area and consumption: {correlation_bua:.3f}\")\n",
    "\n",
    "# Fit a simple linear regression\n",
    "X_bua = df['Carpet-Area'].values.reshape(-1, 1)\n",
    "y_bua = df['avg_consumption'].values\n",
    "reg_bua = LinearRegression().fit(X_bua, y_bua)\n",
    "plt.plot(X_bua, reg_bua.predict(X_bua), color='red', linestyle='--')\n",
    "plt.show()\n",
    "\n",
    "# Print regression equation\n",
    "print(f\"Linear equation: Consumption = {reg_bua.coef_[0]:.2f} × Carpet-Area + {reg_bua.intercept_:.2f}\")"
   ]
  },
  {
   "cell_type": "code",
   "execution_count": null,
   "metadata": {},
   "outputs": [],
   "source": [
    "# Relationship between consumption and household size\n",
    "plt.figure(figsize=(10, 6))\n",
    "sns.boxplot(data=df, x='#Person', y='avg_consumption')\n",
    "plt.title('Household Size vs Average Consumption')\n",
    "plt.xlabel('Number of Persons')\n",
    "plt.ylabel('Average Monthly Consumption (units)')\n",
    "plt.show()\n",
    "\n",
    "# Calculate average consumption per household size\n",
    "household_consumption = df.groupby('#Person')['avg_consumption'].agg(['mean', 'std', 'count'])\n",
    "print(\"\\nConsumption by household size:\")\n",
    "print(household_consumption)\n",
    "\n",
    "# Calculate correlation\n",
    "correlation_size = stats.pearsonr(df['#Person'], df['avg_consumption'])[0]\n",
    "print(f\"\\nCorrelation between household size and consumption: {correlation_size:.3f}\")"
   ]
  },
  {
   "cell_type": "code",
   "execution_count": null,
   "metadata": {},
   "outputs": [],
   "source": [
    "# Create derived features\n",
    "df['appliance_count'] = df['Types-of-appliances'].str.count(',') + 1\n",
    "df['has_ac'] = df['Types-of-appliances'].str.contains('Air conditioner').astype(int)\n",
    "df['has_heater'] = df['Types-of-appliances'].str.contains('Water Heater').astype(int)\n",
    "df['area_per_person'] = df['Carpet-Area'] / df['#Person']\n",
    "\n",
    "# Prepare enhanced feature set\n",
    "X_enhanced = df[[\n",
    "    'Carpet-Area', '#Person', 'appliance_count', 'has_ac', \n",
    "    'has_heater', 'area_per_person'\n",
    "]]\n",
    "y = df['avg_consumption']\n",
    "\n",
    "# Split and train\n",
    "X_train_enh, X_test_enh, y_train_enh, y_test_enh = train_test_split(\n",
    "    X_enhanced, y, test_size=0.2, random_state=42\n",
    ")\n",
    "\n",
    "# Fit enhanced model\n",
    "model_enhanced = LinearRegression()\n",
    "model_enhanced.fit(X_train_enh, y_train_enh)\n",
    "\n",
    "# Evaluate\n",
    "y_pred_enh = model_enhanced.predict(X_test_enh)\n",
    "r2_enh = r2_score(y_test_enh, y_pred_enh)\n",
    "rmse_enh = np.sqrt(mean_squared_error(y_test_enh, y_pred_enh))\n",
    "\n",
    "print(\"\\nEnhanced Model Results:\")\n",
    "print(f\"R-squared score: {r2_enh:.3f}\")\n",
    "print(f\"RMSE: {rmse_enh:.3f}\")\n",
    "print(\"\\nFeature importance:\")\n",
    "for feature, coef in zip(X_enhanced.columns, model_enhanced.coef_):\n",
    "    print(f\"{feature}: {coef:.3f}\")"
   ]
  },
  {
   "cell_type": "code",
   "execution_count": null,
   "metadata": {},
   "outputs": [],
   "source": [
    "# Appliance analysis\n",
    "plt.figure(figsize=(12, 6))\n",
    "appliance_counts = df['Types-of-appliances'].str.split(',').explode().str.strip().value_counts()\n",
    "sns.barplot(x=appliance_counts.values, y=appliance_counts.index)\n",
    "plt.title('Distribution of Appliances')\n",
    "plt.xlabel('Count')\n",
    "plt.tight_layout()\n",
    "plt.show()"
   ]
  },
  {
   "cell_type": "code",
   "execution_count": null,
   "metadata": {},
   "outputs": [],
   "source": [
    "# Consumption metrics\n",
    "print(\"\\nKey Consumption Metrics:\")\n",
    "print(f\"Average consumption per person: {(df['avg_consumption'] / df['#Person']).mean():.2f} units\")\n",
    "print(f\"Average area per person: {df['area_per_person'].mean():.2f} sq ft\")\n",
    "print(f\"Most common household size: {df['#Person'].mode().values[0]} persons\")\n",
    "print(f\"Percentage of homes with AC: {(df['has_ac'].mean() * 100):.1f}%\")\n",
    "print(f\"Average consumption by AC homes: {df[df['has_ac'] == 1]['avg_consumption'].mean():.2f} units\")\n",
    "print(f\"Average consumption by non-AC homes: {df[df['has_ac'] == 0]['avg_consumption'].mean():.2f} units\")"
   ]
  },
  {
   "cell_type": "code",
   "execution_count": null,
   "metadata": {},
   "outputs": [],
   "source": [
    "# Calculate efficiency metrics\n",
    "df['consumption_per_area'] = df['avg_consumption'] / df['Carpet-Area']\n",
    "print(f\"\\nAverage consumption per square foot: {df['consumption_per_area'].mean():.3f} units\")\n",
    "print(\"\\nMost efficient homes (lowest consumption per area):\")\n",
    "print(df.nsmallest(3, 'consumption_per_area')[['Name', 'Carpet-Area', 'avg_consumption', 'consumption_per_area']])\n",
    "print(\"\\nLeast efficient homes (highest consumption per area):\")\n",
    "print(df.nlargest(3, 'consumption_per_area')[['Name', 'Carpet-Area', 'avg_consumption', 'consumption_per_area']])"
   ]
  },
  {
   "cell_type": "markdown",
   "metadata": {},
   "source": [
    "## Ridge Regression Model"
   ]
  },
  {
   "cell_type": "code",
   "execution_count": null,
   "metadata": {},
   "outputs": [],
   "source": [
    "# Consumption Distribution Analysis\n",
    "plt.figure(figsize=(10, 6))\n",
    "sns.histplot(df['avg_consumption'], bins=20, kde=True)\n",
    "plt.title('Distribution of Average Monthly Consumption')\n",
    "plt.xlabel('Average Monthly Consumption (units)')\n",
    "plt.ylabel('Frequency')\n",
    "plt.grid(True)\n",
    "plt.show()"
   ]
  },
  {
   "cell_type": "code",
   "execution_count": null,
   "metadata": {},
   "outputs": [],
   "source": [
    "# Boxplot for outlier detection (Investigating Outliers)\n",
    "plt.figure(figsize=(10, 6))\n",
    "sns.boxplot(data=df, x='avg_consumption')\n",
    "plt.title('Boxplot of Average Monthly Consumption')\n",
    "plt.xlabel('Average Monthly Consumption (units)')\n",
    "plt.grid(True)\n",
    "plt.show()\n"
   ]
  },
  {
   "cell_type": "code",
   "execution_count": null,
   "metadata": {},
   "outputs": [],
   "source": [
    "# Summary of key metrics\n",
    "total_homes = df.shape[0]\n",
    "avg_consumption = df['avg_consumption'].mean()\n",
    "median_consumption = df['avg_consumption'].median()\n",
    "max_consumption = df['avg_consumption'].max()\n",
    "min_consumption = df['avg_consumption'].min()\n",
    "\n",
    "print(\"\\nSummary of Key Metrics:\")\n",
    "print(f\"Total number of homes: {total_homes}\")\n",
    "print(f\"Average consumption: {avg_consumption:.2f} units\")\n",
    "print(f\"Median consumption: {median_consumption:.2f} units\")\n",
    "print(f\"Maximum consumption: {max_consumption:.2f} units\")\n",
    "print(f\"Minimum consumption: {min_consumption:.2f} units\")"
   ]
  },
  {
   "cell_type": "code",
   "execution_count": null,
   "metadata": {},
   "outputs": [],
   "source": []
  }
 ],
 "metadata": {
  "kernelspec": {
   "display_name": "myenv",
   "language": "python",
   "name": "python3"
  },
  "language_info": {
   "codemirror_mode": {
    "name": "ipython",
    "version": 3
   },
   "file_extension": ".py",
   "mimetype": "text/x-python",
   "name": "python",
   "nbconvert_exporter": "python",
   "pygments_lexer": "ipython3",
   "version": "3.9.19"
  }
 },
 "nbformat": 4,
 "nbformat_minor": 2
}
